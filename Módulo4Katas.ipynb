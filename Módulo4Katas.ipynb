{
 "cells": [
  {
   "cell_type": "markdown",
   "metadata": {},
   "source": [
    "ejercicio 1 "
   ]
  },
  {
   "cell_type": "code",
   "execution_count": 32,
   "metadata": {},
   "outputs": [
    {
     "name": "stdout",
     "output_type": "stream",
     "text": [
      "- On average, the Moon moves 4cm away from the Earth every year\n",
      "- The highest daylight temperature of the Moon is 127 Celsius\n"
     ]
    }
   ],
   "source": [
    "text= \"\"\"Interesting facts about the Moon. The Moon is Earth's only satellite. There are several interesting facts about the Moon and how it affects life here on Earth. On average, the Moon moves 4cm away from the Earth every year. This yearly drift is not significant enough to cause immediate effects on Earth. The highest daylight temperature of the Moon is 127 C.\"\"\"\n",
    "text = text.replace('C.','Celsius')\n",
    "texto_separado=text.split('. ')\n",
    "palabras_clave=['average','temperature','distance','year']\n",
    "for linea in texto_separado:\n",
    "    palabras=linea.split(' ')\n",
    "    for palabra in palabras:\n",
    "        if palabra in palabras_clave: \n",
    "            print('-', linea)\n",
    "\n",
    "    \n"
   ]
  },
  {
   "cell_type": "markdown",
   "metadata": {},
   "source": [
    "Ejercicio 2"
   ]
  },
  {
   "cell_type": "code",
   "execution_count": 14,
   "metadata": {},
   "outputs": [
    {
     "name": "stdout",
     "output_type": "stream",
     "text": [
      "Datos De Gravedad Sobre Moon\n",
      "Gravedad en Moon:1.6199999999999999\n",
      "Nombre del planeta:Earth \n",
      "Datos De Gravedad Sobre Moon\n",
      "Gravedad en Moon:1.6199999999999999\n",
      "Nombre del planeta:Earth \n",
      "Datos de gravedad sobre Ganímedes\n",
      "nombre del planeta: Marte \n",
      "Gravedad en Ganímedes:1.4300000000000002\n"
     ]
    }
   ],
   "source": [
    "# Datos \n",
    "name = \"Moon\"\n",
    "gravity = 0.00162 # in kms\n",
    "planet = \"Earth\"\n",
    "#creando el título \n",
    "titulo=f\"datos de gravedad sobre {name}\"\n",
    "plantilla=f\"\"\"Gravedad en {name}:{gravity*1000}\n",
    "Nombre del planeta:{planet} \"\"\"\n",
    "union=f\"{titulo.title()}\\n{plantilla}\"\n",
    "print(union)\n",
    "planeta = 'Marte '\n",
    "gravedad  = 0.00143\n",
    "nombre = 'Ganímedes'\n",
    "print(union)\n",
    "print(\"Datos de gravedad sobre {nombre}\\nnombre del planeta: {planeta}\\nGravedad en {nombre}:{gravedad}\".format(nombre=nombre,planeta=planeta,gravedad=gravedad*1000))"
   ]
  }
 ],
 "metadata": {
  "interpreter": {
   "hash": "73cf6386b5b00302f6fee6f2266ed51edcebaaadddbd2bbdbc7615d6f8208258"
  },
  "kernelspec": {
   "display_name": "Python 3.10.1 64-bit",
   "language": "python",
   "name": "python3"
  },
  "language_info": {
   "codemirror_mode": {
    "name": "ipython",
    "version": 3
   },
   "file_extension": ".py",
   "mimetype": "text/x-python",
   "name": "python",
   "nbconvert_exporter": "python",
   "pygments_lexer": "ipython3",
   "version": "3.10.1"
  },
  "orig_nbformat": 4
 },
 "nbformat": 4,
 "nbformat_minor": 2
}
