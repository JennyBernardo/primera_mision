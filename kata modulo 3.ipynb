{
 "cells": [
  {
   "cell_type": "code",
   "execution_count": 5,
   "metadata": {},
   "outputs": [
    {
     "name": "stdout",
     "output_type": "stream",
     "text": [
      "¡todo bien! no hay de que preocuparse\n"
     ]
    }
   ],
   "source": [
    "velocidad_asteroide = 10\n",
    "if velocidad_asteroide > 25: \n",
    "   print('advertencia: hay un asteroide a más de 25 km/s') \n",
    "else:\n",
    "    print('¡todo bien! no hay de que preocuparse')"
   ]
  },
  {
   "cell_type": "code",
   "execution_count": 9,
   "metadata": {},
   "outputs": [
    {
     "name": "stdout",
     "output_type": "stream",
     "text": [
      "todo bien, excelente día!\n"
     ]
    }
   ],
   "source": [
    "velocidad_asteroide = 19.9999\n",
    "\n",
    "if velocidad_asteroide >=20:\n",
    "    print('un asteroide se dirige a la tierra, debes buscarlo en el cielo')\n",
    "elif velocidad_asteroide == 20:\n",
    "        print('un asteroide se dirige a la tierra, debes buscarlo en el cielo')\n",
    "else:\n",
    "    print('todo bien, excelente día!')\n",
    "\n",
    "\n"
   ]
  },
  {
   "cell_type": "code",
   "execution_count": 50,
   "metadata": {},
   "outputs": [
    {
     "name": "stdout",
     "output_type": "stream",
     "text": [
      "busca una luz en el cielo\n",
      "todo bien, excelente día\n"
     ]
    }
   ],
   "source": [
    "velocidad_asteroide=20\n",
    "tamano_asteroide = 5\n",
    "\n",
    "if velocidad_asteroide>=20:\n",
    "    print('busca una luz en el cielo')\n",
    "if velocidad_asteroide >25 and tamano_asteroide > 25: \n",
    "    print('¡cuidado! un asteroide con velocidad superior a 25 km/s y tamaño mayor a 25m se acerca a la tierra') \n",
    "elif velocidad_asteroide>25 or tamano_asteroide >25:\n",
    "    if velocidad_asteroide >25:\n",
    "        print('cuidado  un asteroide con velocidad mayor a 25 km/s pero tamaño menor a 25m se acerca a la tierra')\n",
    "    elif tamano_asteroide > 25:\n",
    "        print('cuidado hay un asteroide con velocidad menor a 25 km/s pero de más de 25 m acercandose a la tierra ')\n",
    "\n",
    "elif tamano_asteroide <25 or velocidad_asteroide<25: \n",
    "    print('todo bien, excelente día')\n"
   ]
  }
 ],
 "metadata": {
  "interpreter": {
   "hash": "73cf6386b5b00302f6fee6f2266ed51edcebaaadddbd2bbdbc7615d6f8208258"
  },
  "kernelspec": {
   "display_name": "Python 3.10.1 64-bit",
   "language": "python",
   "name": "python3"
  },
  "language_info": {
   "codemirror_mode": {
    "name": "ipython",
    "version": 3
   },
   "file_extension": ".py",
   "mimetype": "text/x-python",
   "name": "python",
   "nbconvert_exporter": "python",
   "pygments_lexer": "ipython3",
   "version": "3.10.1"
  },
  "orig_nbformat": 4
 },
 "nbformat": 4,
 "nbformat_minor": 2
}
