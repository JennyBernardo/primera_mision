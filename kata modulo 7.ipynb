{
 "cells": [
  {
   "cell_type": "markdown",
   "metadata": {},
   "source": [
    "# Ejercicio 1: Bucle while"
   ]
  },
  {
   "cell_type": "code",
   "execution_count": 1,
   "metadata": {},
   "outputs": [],
   "source": [
    "planeta_nuevo = ''\n",
    "planetas = []\n",
    "while planeta_nuevo.lower() != 'fin':\n",
    "    if planeta_nuevo:\n",
    "        planetas.append(planeta_nuevo)\n",
    "    planeta_nuevo = input('Ingresa un planeta (para terminar escribe fin) ')"
   ]
  },
  {
   "cell_type": "markdown",
   "metadata": {},
   "source": [
    "# Ejercicio 2: Ciclo for"
   ]
  },
  {
   "cell_type": "code",
   "execution_count": 2,
   "metadata": {},
   "outputs": [
    {
     "name": "stdout",
     "output_type": "stream",
     "text": [
      "Planeta mercurio\n",
      "Planeta venus\n",
      "Planeta tierra\n"
     ]
    }
   ],
   "source": [
    "for planeta in planetas:\n",
    "    print('Planeta:', planeta)"
   ]
  }
 ],
 "metadata": {
  "interpreter": {
   "hash": "73cf6386b5b00302f6fee6f2266ed51edcebaaadddbd2bbdbc7615d6f8208258"
  },
  "kernelspec": {
   "display_name": "Python 3.10.1 64-bit",
   "language": "python",
   "name": "python3"
  },
  "language_info": {
   "codemirror_mode": {
    "name": "ipython",
    "version": 3
   },
   "file_extension": ".py",
   "mimetype": "text/x-python",
   "name": "python",
   "nbconvert_exporter": "python",
   "pygments_lexer": "ipython3",
   "version": "3.10.1"
  },
  "orig_nbformat": 4
 },
 "nbformat": 4,
 "nbformat_minor": 2
}
